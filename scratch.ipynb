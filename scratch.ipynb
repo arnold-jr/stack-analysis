{
 "cells": [
  {
   "cell_type": "code",
   "execution_count": 17,
   "metadata": {
    "collapsed": false
   },
   "outputs": [
    {
     "data": {
      "text/plain": [
       "Name: Compile Error\n",
       "Message: <console>:19: error: value === is not a member of Array[T]\n",
       "              println(Array() === Array())\n",
       "                              ^\n",
       "StackTrace: "
      ]
     },
     "execution_count": 17,
     "metadata": {},
     "output_type": "execute_result"
    }
   ],
   "source": [
    "println(Array() === Array())"
   ]
  },
  {
   "cell_type": "code",
   "execution_count": 10,
   "metadata": {
    "collapsed": false,
    "slideshow": {
     "slide_type": "slide"
    }
   },
   "outputs": [
    {
     "data": {
      "text/html": [
       "<iframe width=\"100%\" height=\"550\" \n",
       "src=\"https://archive.org/details/stackexchange\"></iframe>"
      ]
     },
     "execution_count": 10,
     "metadata": {},
     "output_type": "execute_result"
    }
   ],
   "source": [
    "%%html\n",
    "<iframe width=\"100%\" height=\"550\" \n",
    "src=\"https://archive.org/details/stackexchange\"></iframe>"
   ]
  },
  {
   "cell_type": "code",
   "execution_count": 34,
   "metadata": {
    "collapsed": false,
    "slideshow": {
     "slide_type": "slide"
    }
   },
   "outputs": [
    {
     "data": {
      "text/plain": [
       "Name: Compile Error\n",
       "Message: <console>:29: error: reference to PostRecord is ambiguous;\n",
       "it is imported twice in the same scope by\n",
       "import INSTANCE.PostRecord\n",
       "and import INSTANCE.PostRecord\n",
       "         def this(pRec: PostRecord, vRec: VoteRecord) = \n",
       "                        ^\n",
       "<console>:29: error: reference to VoteRecord is ambiguous;\n",
       "it is imported twice in the same scope by\n",
       "import INSTANCE.VoteRecord\n",
       "and import INSTANCE.VoteRecord\n",
       "         def this(pRec: PostRecord, vRec: VoteRecord) = \n",
       "                                          ^\n",
       "StackTrace: "
      ]
     },
     "execution_count": 34,
     "metadata": {},
     "output_type": "execute_result"
    }
   ],
   "source": [
    "abstract class Record\n",
    "case class EmptyRecord()\n",
    "case class PostRecord (val id: String, val favs: Int) {\n",
    "  override def toString = \"PostRecord: \" + id + \" \" + favs\n",
    "}\n",
    "case class VoteRecord (val postid: String, val ups: Int, val downs: Int) {\n",
    "  def + (that: VoteRecord) = \n",
    "  new VoteRecord(this.postid, \n",
    "     this.ups + that.ups,\n",
    "     this.downs + that.downs)\n",
    "  \n",
    "  override def toString = \"VoteRecord: \" + postid + \" \" + ups + \"/\" + downs\n",
    "}\n",
    "case class UserRecord (userid: String, rep: Int)\n",
    "case class OutRecord(val favs: Int, val ups: Int, val downs: Int) {\n",
    "  def this(pRec: PostRecord, vRec: VoteRecord) = \n",
    "  this(pRec.favs, vRec.ups, vRec.downs)\n",
    "  def + (that: OutRecord) =\n",
    "    new OutRecord(this.favs + that.favs,\n",
    "      this.ups + that.ups,\n",
    "      this.downs + that.downs)\n",
    "}"
   ]
  },
  {
   "cell_type": "code",
   "execution_count": 2,
   "metadata": {
    "collapsed": true,
    "slideshow": {
     "slide_type": "slide"
    }
   },
   "outputs": [],
   "source": [
    "def postParser(line: String): PostRecord = {\n",
    "  val id_patt = \"Id=\\\"(\\\\d+)\\\"\".r\n",
    "  val favs_patt = \"FavoriteCount=\\\"(\\\\d+)\\\"\".r\n",
    "  def parser(xs: List[String], id: String, favs: Int):\n",
    "  PostRecord = xs match {\n",
    "    case List() => new PostRecord(id, favs)\n",
    "    case (x :: xs1) => x match {\n",
    "      case id_patt(new_id) => parser(xs1, new_id, favs)\n",
    "      case favs_patt(new_favs) => parser(xs1, id, new_favs.toInt)\n",
    "      case _ => parser(xs1, id, favs)\n",
    "    }\n",
    "  }\n",
    "  parser(line.split(\"\\\\s+\").toList, \"\", 0)\n",
    "}"
   ]
  },
  {
   "cell_type": "code",
   "execution_count": 3,
   "metadata": {
    "collapsed": false
   },
   "outputs": [],
   "source": [
    "def voteParser(line: String): VoteRecord = {\n",
    "  val id_patt = \"PostId=\\\"(\\\\d+)\\\"\".r\n",
    "  val vid_patt = \"VoteTypeId=\\\"(\\\\d+)\\\"\".r\n",
    "  def parser(xs: List[String], id: String, up: Int, down: Int):\n",
    "  VoteRecord = xs match {\n",
    "    case List() => new VoteRecord(id,up,down)\n",
    "    case (x :: xs1) => x match {\n",
    "      case id_patt(new_id) => parser(xs1,new_id,up,down)\n",
    "      case vid_patt(vid) =>\n",
    "        if (vid == \"2\") {\n",
    "          parser(xs1,id,1,0)\n",
    "        } else if (vid == \"3\") {\n",
    "          parser(xs1,id,0,1)\n",
    "        }   else {\n",
    "          parser(xs1,id,0,0)\n",
    "        }\n",
    "      case _ => parser(xs1,id,up,down)\n",
    "    }\n",
    "  }\n",
    "  parser(line.split(\"\\\\s+\").toList,\"\",0,0)\n",
    "}"
   ]
  },
  {
   "cell_type": "code",
   "execution_count": 77,
   "metadata": {
    "collapsed": false
   },
   "outputs": [
    {
     "data": {
      "text/plain": [
       "PostRecord(5,1)"
      ]
     },
     "execution_count": 77,
     "metadata": {},
     "output_type": "execute_result"
    }
   ],
   "source": [
    "val postLine = \"\"\"<row Id=\"5\" PostTypeId=\"1\" CreationDate=\"2014-05-13T23:58:30.457\" Score=\"7\" ViewCount=\"296\" Body=\"&lt;p&gt;I've always been interested in machine      learning, but I can't figure out one thing about starting out with a simple &quot;Hello World&quot; example - how can I avoid hard-coding behavior     ?&lt;/p&gt;&#xA;&#xA;&lt;p&gt;For example, if I wanted to &quot;teach&quot; a bot how to avoid randomly placed obstacles, I couldn't just use relat     ive motion, because the obstacles move around, but I don't want to hard code, say, distance, because that ruins the whole point of machine learning     .&lt;/p&gt;&#xA;&#xA;&lt;p&gt;Obviously, randomly generating code would be impractical, so how could I do this?&lt;/p&gt;&#xA;\" OwnerUserId=\"5\" LastActivityDate=\"2014-05-14T00:36:31.077\" Title=\"How can I do simple machine learning without hard-coding behavior?\" Tags=\"&lt;machine-learning&gt;\"      AnswerCount=\"1\" CommentCount=\"1\" FavoriteCount=\"1\" ClosedDate=\"2014-05-14T14:40:25.950\" />\"\"\"\n",
    "postParser(postLine)"
   ]
  },
  {
   "cell_type": "code",
   "execution_count": 5,
   "metadata": {
    "collapsed": false
   },
   "outputs": [
    {
     "data": {
      "text/plain": [
       "1: 1/0"
      ]
     },
     "execution_count": 5,
     "metadata": {},
     "output_type": "execute_result"
    }
   ],
   "source": [
    "val voteLine = \"\"\"<row Id=\"1\" PostId=\"1\" VoteTypeId=\"2\" CreationDate=\"2014-05-13T00:00:00.000\" />\"\"\"\n",
    "voteParser(voteLine)"
   ]
  },
  {
   "cell_type": "code",
   "execution_count": 6,
   "metadata": {
    "collapsed": false
   },
   "outputs": [
    {
     "data": {
      "text/plain": [
       "Array(﻿<?xml version=\"1.0\" encoding=\"utf-8\"?>, <votes>, \"  <row Id=\"1\" PostId=\"1\" VoteTypeId=\"2\" CreationDate=\"2014-05-13T00:00:00.000\" />\", \"  <row Id=\"2\" PostId=\"1\" VoteTypeId=\"2\" CreationDate=\"2014-05-13T00:00:00.000\" />\", \"  <row Id=\"3\" PostId=\"3\" VoteTypeId=\"2\" CreationDate=\"2014-05-13T00:00:00.000\" />\")"
      ]
     },
     "execution_count": 6,
     "metadata": {},
     "output_type": "execute_result"
    }
   ],
   "source": [
    "val voteFile = sc.textFile(\"resources/Votes.xml\")\n",
    "voteFile take(5)"
   ]
  },
  {
   "cell_type": "code",
   "execution_count": 18,
   "metadata": {
    "collapsed": false
   },
   "outputs": [],
   "source": [
    "val votes = voteFile filter(_.contains(\"<row \")) map(voteParser)"
   ]
  },
  {
   "cell_type": "code",
   "execution_count": 10,
   "metadata": {
    "collapsed": false
   },
   "outputs": [],
   "source": [
    "val voteSummary0 = votes.reduce(_ + _)"
   ]
  },
  {
   "cell_type": "code",
   "execution_count": 13,
   "metadata": {
    "collapsed": false
   },
   "outputs": [
    {
     "name": "stdout",
     "output_type": "stream",
     "text": [
      "################################################################################\n",
      "Total UpVotes: 18117, Total DownVotes: 1126\n"
     ]
    }
   ],
   "source": [
    "println((\"#\" * 80 + \"\\nTotal UpVotes: %s, Total DownVotes: %s\")\n",
    "  .format(voteSummary0.ups, voteSummary0.downs))"
   ]
  },
  {
   "cell_type": "code",
   "execution_count": 19,
   "metadata": {
    "collapsed": true
   },
   "outputs": [],
   "source": [
    "val posts = sc.textFile(\"resources/Posts.xml\") filter (_ contains(\"<row \")) map(postParser)"
   ]
  },
  {
   "cell_type": "code",
   "execution_count": 20,
   "metadata": {
    "collapsed": false
   },
   "outputs": [
    {
     "name": "stdout",
     "output_type": "stream",
     "text": [
      "################################################################################\n",
      "Total Posts: 6980, Total Votes: 24317\n"
     ]
    }
   ],
   "source": [
    "println((\"#\" * 80 + \"\\nTotal Posts: %s, Total Votes: %s\")\n",
    "  .format(posts.count(), votes.count()))"
   ]
  },
  {
   "cell_type": "code",
   "execution_count": 27,
   "metadata": {
    "collapsed": false
   },
   "outputs": [],
   "source": [
    "val votesByPost =\n",
    "  posts map(p => (p.id, p)) join(\n",
    "    votes map(v => (v.postid, v))\n",
    "  )"
   ]
  },
  {
   "cell_type": "code",
   "execution_count": 44,
   "metadata": {
    "collapsed": false
   },
   "outputs": [
    {
     "name": "stdout",
     "output_type": "stream",
     "text": [
      "[Ljava.lang.String;@67132c73\n"
     ]
    }
   ],
   "source": [
    "val deb = votesByPost map({\n",
    "        case (id: String, (post, vote)) =>\n",
    "          (id, new OutRecord(post.favs, vote.ups, vote.downs))\n",
    "      }) map(_._1)\n",
    "println(deb takeOrdered(1))"
   ]
  },
  {
   "cell_type": "code",
   "execution_count": 48,
   "metadata": {
    "collapsed": false
   },
   "outputs": [
    {
     "data": {
      "text/plain": [
       "(List(a),List(1))"
      ]
     },
     "execution_count": 48,
     "metadata": {},
     "output_type": "execute_result"
    }
   ],
   "source": [
    "val joe = List((\"a\",1))\n",
    "joe.unzip"
   ]
  },
  {
   "cell_type": "code",
   "execution_count": 51,
   "metadata": {
    "collapsed": false
   },
   "outputs": [],
   "source": [
    "import scala.xml._"
   ]
  },
  {
   "cell_type": "code",
   "execution_count": 54,
   "metadata": {
    "collapsed": true
   },
   "outputs": [],
   "source": [
    "val page =     \n",
    "  <html>\n",
    "      <head>\n",
    "        <title>Hello XHTML world</title>\n",
    "      </head>\n",
    "      <body>\n",
    "        <h1>Hello world</h1>\n",
    "        <p><a href=\"http://scala-lang.org/\">Scala</a> talks XHTML</p>\n",
    "      </body>\n",
    "    </html>\n",
    "\n"
   ]
  },
  {
   "cell_type": "code",
   "execution_count": 66,
   "metadata": {
    "collapsed": false
   },
   "outputs": [
    {
     "name": "stdout",
     "output_type": "stream",
     "text": [
      "<title>Hello XHTML world</title>\n"
     ]
    }
   ],
   "source": [
    "println(page \\ \"head\" \\ \"title\" toString)"
   ]
  },
  {
   "cell_type": "code",
   "execution_count": 114,
   "metadata": {
    "collapsed": false
   },
   "outputs": [],
   "source": [
    "val someXML = \n",
    "  <row Tags=\"&lt;machine-learning&gt;&lt;materials&gt;\"></row>"
   ]
  },
  {
   "cell_type": "code",
   "execution_count": 117,
   "metadata": {
    "collapsed": false
   },
   "outputs": [
    {
     "data": {
      "text/plain": [
       "Array(machine-learning, materials)"
      ]
     },
     "execution_count": 117,
     "metadata": {},
     "output_type": "execute_result"
    }
   ],
   "source": [
    "val lesa = (someXML \\ \"@Tags\" text) split \"><\" map (_.stripPrefix(\"<\").stripSuffix(\">\"))\n",
    "lesa"
   ]
  },
  {
   "cell_type": "code",
   "execution_count": 82,
   "metadata": {
    "collapsed": false
   },
   "outputs": [
    {
     "data": {
      "text/plain": [
       "&lt;machine-learning&gt;"
      ]
     },
     "execution_count": 82,
     "metadata": {},
     "output_type": "execute_result"
    }
   ],
   "source": [
    "val elem = XML.loadString(postLine)\n",
    "val tags = elem \\ \"@Tags\"\n",
    "tags"
   ]
  },
  {
   "cell_type": "code",
   "execution_count": 84,
   "metadata": {
    "collapsed": false
   },
   "outputs": [
    {
     "data": {
      "text/plain": [
       "NodeSeq(&lt;machine-learning&gt;)"
      ]
     },
     "execution_count": 84,
     "metadata": {},
     "output_type": "execute_result"
    }
   ],
   "source": [
    "tags map(x => x.text )"
   ]
  },
  {
   "cell_type": "code",
   "execution_count": 85,
   "metadata": {
    "collapsed": true
   },
   "outputs": [],
   "source": [
    "val tagPattern = \"(?<=&lt;).+?(?=&gt;)\".r"
   ]
  },
  {
   "cell_type": "code",
   "execution_count": 94,
   "metadata": {
    "collapsed": false
   },
   "outputs": [
    {
     "data": {
      "text/plain": [
       "machine-learning"
      ]
     },
     "execution_count": 94,
     "metadata": {},
     "output_type": "execute_result"
    }
   ],
   "source": [
    "val gigi = tags.text\n",
    "gigi.stripPrefix(\"<\").stripSuffix(\">\")"
   ]
  },
  {
   "cell_type": "code",
   "execution_count": 89,
   "metadata": {
    "collapsed": false
   },
   "outputs": [
    {
     "data": {
      "text/plain": [
       "empty iterator"
      ]
     },
     "execution_count": 89,
     "metadata": {},
     "output_type": "execute_result"
    }
   ],
   "source": [
    "tagPattern.findAllIn(tags.text)"
   ]
  },
  {
   "cell_type": "code",
   "execution_count": 118,
   "metadata": {
    "collapsed": true
   },
   "outputs": [],
   "source": [
    "import org.apache.spark.ml.feature.Word2Vec"
   ]
  },
  {
   "cell_type": "code",
   "execution_count": 129,
   "metadata": {
    "collapsed": false
   },
   "outputs": [
    {
     "data": {
      "text/plain": [
       "0"
      ]
     },
     "execution_count": 129,
     "metadata": {},
     "output_type": "execute_result"
    }
   ],
   "source": [
    "val deb = List(\"<>\")\n",
    "val joe = deb map(_ stripPrefix \"<\" stripSuffix \">\") filter(_.length > 0) \n",
    "joe.length"
   ]
  }
 ],
 "metadata": {
  "celltoolbar": "Slideshow",
  "kernelspec": {
   "display_name": "Apache Toree - Scala",
   "language": "scala",
   "name": "apache_toree_scala"
  },
  "language_info": {
   "name": "scala",
   "version": "2.10.4"
  }
 },
 "nbformat": 4,
 "nbformat_minor": 0
}
